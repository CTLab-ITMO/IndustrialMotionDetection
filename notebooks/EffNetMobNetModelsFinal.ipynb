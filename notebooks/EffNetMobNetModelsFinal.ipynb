{
 "cells": [
  {
   "cell_type": "code",
   "execution_count": 1,
   "id": "92c45ba9",
   "metadata": {},
   "outputs": [],
   "source": [
    "# @title Захват кадров\n",
    "import cv2\n",
    "import pandas as pd\n",
    "import os\n",
    "from PIL import Image\n",
    "\n",
    "TRAIN_VAL_SPLIT = 0.2\n",
    "CLASS_NAMES = ['normal', 'covered', 'defocussed', 'moved']\n",
    "CLASS_TO_IDX = {\n",
    "    'normal': 0,\n",
    "    'covered': 1,\n",
    "    'defocussed': 2,\n",
    "    'moved': 3\n",
    "}\n",
    "\n",
    "class VideoFrameExtractor:\n",
    "    def __init__(self, base_path, camera_name, max_frames_per_class, step=4):\n",
    "        self.base_path = base_path\n",
    "        self.camera_name = camera_name\n",
    "        self.step = step\n",
    "        self.max_frames_per_class = max_frames_per_class\n",
    "\n",
    "    def _load_annotations(self, annotation_path):\n",
    "        if not os.path.exists(annotation_path):\n",
    "            return None\n",
    "        df = pd.read_csv(annotation_path, header=None)\n",
    "        return df.iloc[:, 1].values\n",
    "\n",
    "    def extract(self):\n",
    "        train_data = []\n",
    "        val_data = []\n",
    "        \n",
    "        train_path = os.path.join(self.base_path, self.camera_name, \"Training video\")\n",
    "        test_path = os.path.join(self.base_path, self.camera_name, \"Testing video\")\n",
    "        \n",
    "        for idx, path in enumerate([train_path, test_path]):\n",
    "            frames_collected_total = 0\n",
    "            frames_collected_per_class = [0, 0, 0, 0]\n",
    "            max_frames_per_class = [x * (TRAIN_VAL_SPLIT if idx else 1) for x in self.max_frames_per_class]\n",
    "                \n",
    "            for root, _, files in os.walk(path):\n",
    "                for file in files:\n",
    "                    if not file.endswith(\".avi\"):\n",
    "                        continue\n",
    "\n",
    "                    video_path = os.path.join(root, file)\n",
    "                    annotation_path = os.path.join(root, \"annotations.csv\")\n",
    "                    labels = self._load_annotations(annotation_path)\n",
    "                    if labels is None:\n",
    "                        print(f\"Warning: no annotations for {video_path}, skipping.\")\n",
    "                        continue\n",
    "\n",
    "                    cap = cv2.VideoCapture(video_path)\n",
    "                    total_frames = len(labels)\n",
    "                    frame_idx = 0\n",
    "\n",
    "                    while frame_idx < total_frames and frames_collected_total < sum(max_frames_per_class):\n",
    "                        true_label = labels[frame_idx]\n",
    "                        if frames_collected_per_class[true_label] == max_frames_per_class[true_label]:\n",
    "                            frame_idx += self.step\n",
    "                            continue\n",
    "                        \n",
    "                        cap.set(cv2.CAP_PROP_POS_FRAMES, frame_idx)\n",
    "                        ret, frame = cap.read()\n",
    "                        if not ret:\n",
    "                            frame_idx += self.step\n",
    "                            continue\n",
    "                        \n",
    "                        frame = cv2.cvtColor(frame, cv2.COLOR_BGR2RGB)\n",
    "                        pil_img = Image.fromarray(frame)\n",
    "                        if idx == 0: # train and val\n",
    "                            train_data.append((pil_img, true_label))\n",
    "                        else: # test\n",
    "                            val_data.append((pil_img, true_label))\n",
    "                            \n",
    "                        frames_collected_total += 1\n",
    "                        frames_collected_per_class[true_label] += 1\n",
    "                        frame_idx += self.step\n",
    "                        \n",
    "\n",
    "                    cap.release()\n",
    "\n",
    "            print(f\"Extracted per {\"train+test\" if idx == 0 else \"val\"} : {frames_collected_per_class}\") \n",
    "                \n",
    "                         \n",
    "        return train_data, val_data\n"
   ]
  },
  {
   "cell_type": "code",
   "execution_count": 2,
   "id": "0948bb59",
   "metadata": {},
   "outputs": [],
   "source": [
    "from torch.utils.data import Dataset\n",
    "\n",
    "class FrameDataset(Dataset):\n",
    "    def __init__(self, frame_data, transform=None):\n",
    "        self.frame_data = frame_data\n",
    "        self.transform = transform\n",
    "\n",
    "    def __getitem__(self, index):\n",
    "        img, label = self.frame_data[index]\n",
    "        if self.transform:\n",
    "            img = self.transform(img)\n",
    "        return img, label\n",
    "\n",
    "    def __len__(self):\n",
    "        return len(self.frame_data)\n"
   ]
  },
  {
   "cell_type": "code",
   "execution_count": 3,
   "id": "988e10c4",
   "metadata": {},
   "outputs": [],
   "source": [
    "from torch.utils.data import Dataset, DataLoader\n",
    "from torchvision import transforms\n",
    "import numpy as np\n",
    "\n",
    "# 60/20/20\n",
    "\n",
    "class ImageDataset(Dataset):\n",
    "    def __init__(\n",
    "            self, base_path, camera_name, max_frames_per_class=[10000, 10000, 10000, 10000], train_batch_size=64, val_and_test_batch_size=32,\n",
    "            img_size=224):\n",
    "        self.train_batch_size = train_batch_size\n",
    "        self.val_and_test_batch_size = val_and_test_batch_size\n",
    "        self.img_size = img_size\n",
    "        self.base_path = base_path\n",
    "        self.camera_name = camera_name\n",
    "        self.max_frames_per_class = max_frames_per_class\n",
    "        if 'moved' not in CLASS_TO_IDX:\n",
    "            self.max_frames_per_class[3] = 0\n",
    "        self.transforms = {\n",
    "            'train': transforms.Compose([\n",
    "                transforms.RandomResizedCrop(img_size),\n",
    "                transforms.RandomHorizontalFlip(),\n",
    "                transforms.ToTensor(),\n",
    "                transforms.Normalize([0.485, 0.456, 0.406], [\n",
    "                                     0.229, 0.224, 0.225]),\n",
    "            ]),\n",
    "            'val': transforms.Compose([\n",
    "                transforms.Resize(img_size),\n",
    "                transforms.CenterCrop(img_size),\n",
    "                transforms.ToTensor(),\n",
    "                transforms.Normalize([0.485, 0.456, 0.406], [\n",
    "                                     0.229, 0.224, 0.225])\n",
    "            ]),\n",
    "        }\n",
    "\n",
    "        self._load_video_frames()\n",
    "\n",
    "    def _load_video_frames(self):\n",
    "        extractor = VideoFrameExtractor(base_path=self.base_path, camera_name=self.camera_name, max_frames_per_class=self.max_frames_per_class)\n",
    "        frames_train_and_val, frames_test = extractor.extract()\n",
    "        np.random.shuffle(frames_train_and_val)\n",
    "        np.random.shuffle(frames_test)\n",
    "        frames_train = frames_train_and_val[len(frames_test):]\n",
    "        frames_val = frames_train_and_val[:len(frames_test)]\n",
    "\n",
    "        self.train_ds = FrameDataset(frames_train, transform=self.transforms['train'])\n",
    "        self.val_ds = FrameDataset(frames_val, transform=self.transforms['val'])\n",
    "        self.test_ds = FrameDataset(frames_test, transform=self.transforms['val'])\n",
    "        \n",
    "        self.size_dataset_train = len(self.train_ds)\n",
    "        self.size_dataset_val = len(self.val_ds)\n",
    "        self.size_dataset_test = len(self.test_ds)\n",
    "\n",
    "    def get_dataloader(self, mode):\n",
    "        if mode == 'train':\n",
    "            dataset = self.train_ds\n",
    "        elif mode == 'val':\n",
    "            dataset = self.val_ds\n",
    "        elif mode == 'test':\n",
    "            dataset = self.test_ds\n",
    "        else:\n",
    "            raise ValueError(f\"Expected train/test/val. Met {mode}\")\n",
    "        \n",
    "        return DataLoader(\n",
    "            dataset,\n",
    "            batch_size=self.train_batch_size if mode == 'train' else self.val_and_test_batch_size,\n",
    "            shuffle=(mode == 'train')\n",
    "        )\n",
    "\n",
    "    def __len__(self):\n",
    "        return self.size_dataset_train + self.size_dataset_test + self.size_dataset_val \n",
    "\n",
    "    def train_len(self):\n",
    "        return self.size_dataset_train\n",
    "    \n",
    "    def test_len(self):\n",
    "        return self.size_dataset_test\n",
    "\n",
    "    def val_len(self):\n",
    "        return self.size_dataset_val"
   ]
  },
  {
   "cell_type": "code",
   "execution_count": 4,
   "id": "9cee4199",
   "metadata": {},
   "outputs": [],
   "source": [
    "import plotly.graph_objects as go\n",
    "from IPython.display import display, clear_output\n",
    "from plotly.subplots import make_subplots\n",
    "\n",
    "class PlotlyTrainingDashboard:\n",
    "    def __init__(self):\n",
    "        self.metrics = {\n",
    "            'epochs': [],\n",
    "            'train_loss': [],\n",
    "            'val_loss': [],\n",
    "            'train_acc': [],\n",
    "            'val_acc': [],\n",
    "            'learning_rate': []\n",
    "        }\n",
    "\n",
    "    def update_dashboard(self, epoch, train_loss, val_loss, \n",
    "                         train_acc, val_acc, lr):\n",
    "        self.metrics['epochs'].append(epoch)\n",
    "        self.metrics['train_loss'].append(train_loss)\n",
    "        self.metrics['val_loss'].append(val_loss)\n",
    "        self.metrics['train_acc'].append(train_acc)\n",
    "        self.metrics['val_acc'].append(val_acc)\n",
    "        self.metrics['learning_rate'].append(lr)\n",
    "\n",
    "        clear_output(wait=True)\n",
    "\n",
    "        fig = make_subplots(rows=2, cols=2, \n",
    "                            subplot_titles=(\"Loss\", \"Accuracy\", \"Learning Rate\", \"\"),\n",
    "                            specs=[[{\"colspan\": 2}, None],\n",
    "                                   [{}, {}]])\n",
    "\n",
    "        fig.add_trace(go.Scatter(x=self.metrics['epochs'], y=self.metrics['train_loss'], \n",
    "                                 mode='lines', name='Train Loss', line=dict(color='blue')), row=1, col=1)\n",
    "        fig.add_trace(go.Scatter(x=self.metrics['epochs'], y=self.metrics['val_loss'], \n",
    "                                 mode='lines', name='Val Loss', line=dict(color='red')), row=1, col=1)\n",
    "\n",
    "        fig.add_trace(go.Scatter(x=self.metrics['epochs'], y=self.metrics['train_acc'], \n",
    "                                 mode='lines', name='Train Acc', line=dict(color='green')), row=2, col=1)\n",
    "        fig.add_trace(go.Scatter(x=self.metrics['epochs'], y=self.metrics['val_acc'], \n",
    "                                 mode='lines', name='Val Acc', line=dict(color='orange')), row=2, col=1)\n",
    "\n",
    "        fig.add_trace(go.Scatter(x=self.metrics['epochs'], y=self.metrics['learning_rate'], \n",
    "                                 mode='lines', name='Learning Rate', line=dict(color='purple')), row=2, col=2)\n",
    "\n",
    "        fig.update_layout(height=600, width=1000, title_text=\"Training Dashboard\", showlegend=True)\n",
    "        display(fig)"
   ]
  },
  {
   "cell_type": "code",
   "execution_count": 5,
   "id": "01bcf9b0",
   "metadata": {},
   "outputs": [
    {
     "name": "stdout",
     "output_type": "stream",
     "text": [
      "Using device: mps\n"
     ]
    }
   ],
   "source": [
    "# @title Обучение\n",
    "import torch\n",
    "import torch.nn as nn\n",
    "import torch.optim as optim\n",
    "from torchvision.models import (\n",
    "    mobilenet_v2,\n",
    "    MobileNet_V2_Weights,\n",
    "    efficientnet_b0,\n",
    "    EfficientNet_B0_Weights\n",
    ")\n",
    "import torch\n",
    "from torch.utils.data import DataLoader\n",
    "import numpy as np\n",
    "from sklearn.metrics import (\n",
    "    classification_report,\n",
    "    confusion_matrix,\n",
    "    ConfusionMatrixDisplay,\n",
    ")\n",
    "import matplotlib.pyplot as plt\n",
    "from tqdm import tqdm\n",
    "\n",
    "EPOCHS = 3\n",
    "DEVICE = torch.device(\"mps\" if torch.backends.mps.is_available() else \"cpu\")\n",
    "print(f\"Using device: {DEVICE}\")\n",
    "\n",
    "\n",
    "def train_epoch(model, train_loader, optimizer, epoch):\n",
    "    criterion = nn.CrossEntropyLoss()\n",
    "\n",
    "    model.train()\n",
    "    train_loss, correct, total = 0.0, 0, 0\n",
    "\n",
    "    progress_bar = tqdm(train_loader, desc=f\"[Train] Epoch {epoch + 1}/{EPOCHS}\", leave=False)\n",
    "    for inputs, labels in progress_bar:\n",
    "        inputs, labels = inputs.to(DEVICE), labels.to(DEVICE)\n",
    "        optimizer.zero_grad()\n",
    "\n",
    "        outputs = model(inputs)\n",
    "        loss = criterion(outputs, labels)\n",
    "        loss.backward()\n",
    "        optimizer.step()\n",
    "\n",
    "        train_loss += loss.item() * inputs.size(0)\n",
    "        _, preds = torch.max(outputs, 1)\n",
    "        correct += (preds == labels).sum().item()\n",
    "        total += labels.size(0)\n",
    "\n",
    "        progress_bar.set_postfix(loss=loss.item())\n",
    "\n",
    "    epoch_train_loss = train_loss / total\n",
    "    epoch_train_acc = correct / total\n",
    "    return epoch_train_loss, epoch_train_acc\n",
    "\n",
    "\n",
    "def validate_epoch(model, val_loader, epoch):\n",
    "    criterion = nn.CrossEntropyLoss()\n",
    "    model.eval()\n",
    "    val_loss, correct, total = 0.0, 0, 0\n",
    "\n",
    "    progress_bar = tqdm(val_loader, desc=f\"[Val] Epoch {epoch + 1}/{EPOCHS}\", leave=False)\n",
    "    with torch.no_grad():\n",
    "        for inputs, labels in progress_bar:\n",
    "            inputs, labels = inputs.to(DEVICE), labels.to(DEVICE)\n",
    "            \n",
    "            outputs = model(inputs)\n",
    "            loss = criterion(outputs, labels)\n",
    "\n",
    "            val_loss += loss.item() * inputs.size(0)\n",
    "            _, preds = torch.max(outputs, 1)\n",
    "            correct += (preds == labels).sum().item()\n",
    "            total += labels.size(0)\n",
    "\n",
    "            progress_bar.set_postfix(loss=loss.item())\n",
    "\n",
    "    epoch_val_loss = val_loss / total\n",
    "    epoch_val_acc = correct / total\n",
    "\n",
    "    return epoch_val_loss, epoch_val_acc\n",
    "\n",
    "\n",
    "def evaluate_model(model, test_loader, visualize = True):\n",
    "    criterion = nn.CrossEntropyLoss()\n",
    "    model.eval()\n",
    "    model.to(DEVICE)\n",
    "\n",
    "    all_preds = []\n",
    "    all_labels = []\n",
    "    eval_loss, correct, total = 0.0, 0, 0\n",
    "    \n",
    "    with torch.no_grad():\n",
    "        for inputs, labels in test_loader:\n",
    "            inputs, labels = inputs.to(DEVICE), labels.to(DEVICE)\n",
    "            outputs = model(inputs)\n",
    "            _, preds = torch.max(outputs, 1)\n",
    "\n",
    "            loss = criterion(outputs, labels)\n",
    "            eval_loss += loss.item() * inputs.size(0)\n",
    "            correct += (preds == labels).sum().item()\n",
    "            total += labels.size(0)\n",
    "    \n",
    "            all_preds.extend(preds.cpu().numpy())\n",
    "            all_labels.extend(labels.cpu().numpy())\n",
    "            \n",
    "    if visualize:\n",
    "        all_preds = np.array(all_preds)\n",
    "        all_labels = np.array(all_labels)\n",
    "\n",
    "        class_names = list(CLASS_NAMES)\n",
    "        cm = confusion_matrix(all_labels, all_preds)\n",
    "\n",
    "        disp = ConfusionMatrixDisplay(confusion_matrix=cm, display_labels=class_names)\n",
    "        disp.plot(cmap=plt.cm.OrRd)\n",
    "        plt.title(\"Confusion Matrix\")\n",
    "        plt.show()\n",
    "\n",
    "        print(\"Classification Report:\")\n",
    "        print(classification_report(all_labels, all_preds, target_names=class_names, zero_division=1))\n",
    "\n",
    "        print(\"TPR, FPR per class:\")\n",
    "        for i, class_name in enumerate(class_names):\n",
    "            TP = cm[i, i]\n",
    "            FN = cm[i, :].sum() - TP\n",
    "            FP = cm[:, i].sum() - TP\n",
    "            TN = cm.sum() - (TP + FN + FP)\n",
    "            \n",
    "            TPR = TP / (TP + FN) if TP + FN > 0 else 0.0\n",
    "            FPR = FP / (FP + TN) if FP + TN > 0 else 0.0\n",
    "\n",
    "            print(f\"{class_name}: TPR = {TPR:.4f}, FPR = {FPR:.4f}\")\n",
    "    \n",
    "    epoch_eval_loss = eval_loss / total\n",
    "    epoch_eval_acc = correct / total\n",
    "    return epoch_eval_loss, epoch_eval_acc  \n",
    "    \n",
    "    \n",
    "def train_model(dashboard, base_path=\"UHCTD_dataset\", camera_name=\"Camera A\", mode='EfficientNet', lr = 0.001):\n",
    "    dataset = ImageDataset(base_path=base_path, camera_name=camera_name)\n",
    "\n",
    "    train_loader = DataLoader(dataset.get_dataloader(mode='train').dataset, batch_size=64, shuffle=True)\n",
    "    val_loader = DataLoader(dataset.get_dataloader(mode='val').dataset, batch_size=32)\n",
    "    test_loader = DataLoader(dataset.get_dataloader(mode='test').dataset, batch_size=32)\n",
    "\n",
    "    if mode == 'MobileNetV2':\n",
    "        model = mobilenet_v2(weights=MobileNet_V2_Weights.DEFAULT)\n",
    "        model.classifier[1] = nn.Linear(model.last_channel, len(CLASS_TO_IDX))\n",
    "    elif mode == 'EfficientNet':\n",
    "        model = efficientnet_b0(weights=EfficientNet_B0_Weights.DEFAULT)\n",
    "        model.classifier[1] = nn.Linear(model.classifier[1].in_features, len(CLASS_TO_IDX))\n",
    "    else:\n",
    "        raise ValueError(f\"Unknown model mode: {mode}\")\n",
    "\n",
    "    model = model.to(DEVICE)\n",
    "    optimizer = optim.Adam(model.parameters(), lr=lr)\n",
    "    \n",
    "    base_train_loss, base_train_acc = evaluate_model(model, train_loader, visualize=False)\n",
    "    base_val_loss, base_val_acc = evaluate_model(model, val_loader, visualize=False)\n",
    "    dashboard.update_dashboard(0, base_train_loss, base_val_loss, base_train_acc, base_val_acc, lr)\n",
    "    \n",
    "    best_val_loss = float('inf')\n",
    "    model_save_path = f\"best_model_{mode}.pt\"\n",
    "    \n",
    "    for epoch in range(EPOCHS):\n",
    "        train_loss, train_acc = train_epoch(model=model, train_loader=train_loader, optimizer=optimizer, epoch=epoch)\n",
    "        val_loss, val_acc = validate_epoch(model=model, val_loader=val_loader, epoch=epoch)\n",
    "        current_lr = optimizer.param_groups[0]['lr']\n",
    "            \n",
    "        dashboard.update_dashboard(epoch + 1, train_loss, val_loss, train_acc, val_acc, current_lr)\n",
    "        \n",
    "        if val_loss < best_val_loss:\n",
    "            best_val_loss = val_loss\n",
    "            torch.save(model.state_dict(), model_save_path)\n",
    "            print(f\"Epoch {epoch + 1}: New best model saved to {model_save_path}\")\n",
    "            \n",
    "\n",
    "    evaluate_model(model, test_loader)"
   ]
  },
  {
   "cell_type": "code",
   "execution_count": 6,
   "id": "cff6a433",
   "metadata": {},
   "outputs": [
    {
     "data": {
      "application/vnd.plotly.v1+json": {
       "config": {
        "plotlyServerURL": "https://plot.ly"
       },
       "data": [
        {
         "line": {
          "color": "blue"
         },
         "mode": "lines",
         "name": "Train Loss",
         "type": "scatter",
         "x": [
          0,
          1,
          2,
          3
         ],
         "xaxis": "x",
         "y": [
          1.3009227390289306,
          0.13596183207258583,
          0.07376966335996986,
          0.06607314496766775
         ],
         "yaxis": "y"
        },
        {
         "line": {
          "color": "red"
         },
         "mode": "lines",
         "name": "Val Loss",
         "type": "scatter",
         "x": [
          0,
          1,
          2,
          3
         ],
         "xaxis": "x",
         "y": [
          1.2904260735511779,
          0.021201413034337747,
          0.02673857306491118,
          0.020414921215451614
         ],
         "yaxis": "y"
        },
        {
         "line": {
          "color": "green"
         },
         "mode": "lines",
         "name": "Train Acc",
         "type": "scatter",
         "x": [
          0,
          1,
          2,
          3
         ],
         "xaxis": "x2",
         "y": [
          0.45865625,
          0.95515625,
          0.97578125,
          0.9790625
         ],
         "yaxis": "y2"
        },
        {
         "line": {
          "color": "orange"
         },
         "mode": "lines",
         "name": "Val Acc",
         "type": "scatter",
         "x": [
          0,
          1,
          2,
          3
         ],
         "xaxis": "x2",
         "y": [
          0.435625,
          0.994,
          0.993,
          0.994
         ],
         "yaxis": "y2"
        },
        {
         "line": {
          "color": "purple"
         },
         "mode": "lines",
         "name": "Learning Rate",
         "type": "scatter",
         "x": [
          0,
          1,
          2,
          3
         ],
         "xaxis": "x3",
         "y": [
          0.001,
          0.001,
          0.001,
          0.001
         ],
         "yaxis": "y3"
        }
       ],
       "layout": {
        "annotations": [
         {
          "font": {
           "size": 16
          },
          "showarrow": false,
          "text": "Loss",
          "x": 0.5,
          "xanchor": "center",
          "xref": "paper",
          "y": 1,
          "yanchor": "bottom",
          "yref": "paper"
         },
         {
          "font": {
           "size": 16
          },
          "showarrow": false,
          "text": "Accuracy",
          "x": 0.225,
          "xanchor": "center",
          "xref": "paper",
          "y": 0.375,
          "yanchor": "bottom",
          "yref": "paper"
         },
         {
          "font": {
           "size": 16
          },
          "showarrow": false,
          "text": "Learning Rate",
          "x": 0.775,
          "xanchor": "center",
          "xref": "paper",
          "y": 0.375,
          "yanchor": "bottom",
          "yref": "paper"
         }
        ],
        "height": 600,
        "showlegend": true,
        "template": {
         "data": {
          "bar": [
           {
            "error_x": {
             "color": "#2a3f5f"
            },
            "error_y": {
             "color": "#2a3f5f"
            },
            "marker": {
             "line": {
              "color": "#E5ECF6",
              "width": 0.5
             },
             "pattern": {
              "fillmode": "overlay",
              "size": 10,
              "solidity": 0.2
             }
            },
            "type": "bar"
           }
          ],
          "barpolar": [
           {
            "marker": {
             "line": {
              "color": "#E5ECF6",
              "width": 0.5
             },
             "pattern": {
              "fillmode": "overlay",
              "size": 10,
              "solidity": 0.2
             }
            },
            "type": "barpolar"
           }
          ],
          "carpet": [
           {
            "aaxis": {
             "endlinecolor": "#2a3f5f",
             "gridcolor": "white",
             "linecolor": "white",
             "minorgridcolor": "white",
             "startlinecolor": "#2a3f5f"
            },
            "baxis": {
             "endlinecolor": "#2a3f5f",
             "gridcolor": "white",
             "linecolor": "white",
             "minorgridcolor": "white",
             "startlinecolor": "#2a3f5f"
            },
            "type": "carpet"
           }
          ],
          "choropleth": [
           {
            "colorbar": {
             "outlinewidth": 0,
             "ticks": ""
            },
            "type": "choropleth"
           }
          ],
          "contour": [
           {
            "colorbar": {
             "outlinewidth": 0,
             "ticks": ""
            },
            "colorscale": [
             [
              0,
              "#0d0887"
             ],
             [
              0.1111111111111111,
              "#46039f"
             ],
             [
              0.2222222222222222,
              "#7201a8"
             ],
             [
              0.3333333333333333,
              "#9c179e"
             ],
             [
              0.4444444444444444,
              "#bd3786"
             ],
             [
              0.5555555555555556,
              "#d8576b"
             ],
             [
              0.6666666666666666,
              "#ed7953"
             ],
             [
              0.7777777777777778,
              "#fb9f3a"
             ],
             [
              0.8888888888888888,
              "#fdca26"
             ],
             [
              1,
              "#f0f921"
             ]
            ],
            "type": "contour"
           }
          ],
          "contourcarpet": [
           {
            "colorbar": {
             "outlinewidth": 0,
             "ticks": ""
            },
            "type": "contourcarpet"
           }
          ],
          "heatmap": [
           {
            "colorbar": {
             "outlinewidth": 0,
             "ticks": ""
            },
            "colorscale": [
             [
              0,
              "#0d0887"
             ],
             [
              0.1111111111111111,
              "#46039f"
             ],
             [
              0.2222222222222222,
              "#7201a8"
             ],
             [
              0.3333333333333333,
              "#9c179e"
             ],
             [
              0.4444444444444444,
              "#bd3786"
             ],
             [
              0.5555555555555556,
              "#d8576b"
             ],
             [
              0.6666666666666666,
              "#ed7953"
             ],
             [
              0.7777777777777778,
              "#fb9f3a"
             ],
             [
              0.8888888888888888,
              "#fdca26"
             ],
             [
              1,
              "#f0f921"
             ]
            ],
            "type": "heatmap"
           }
          ],
          "histogram": [
           {
            "marker": {
             "pattern": {
              "fillmode": "overlay",
              "size": 10,
              "solidity": 0.2
             }
            },
            "type": "histogram"
           }
          ],
          "histogram2d": [
           {
            "colorbar": {
             "outlinewidth": 0,
             "ticks": ""
            },
            "colorscale": [
             [
              0,
              "#0d0887"
             ],
             [
              0.1111111111111111,
              "#46039f"
             ],
             [
              0.2222222222222222,
              "#7201a8"
             ],
             [
              0.3333333333333333,
              "#9c179e"
             ],
             [
              0.4444444444444444,
              "#bd3786"
             ],
             [
              0.5555555555555556,
              "#d8576b"
             ],
             [
              0.6666666666666666,
              "#ed7953"
             ],
             [
              0.7777777777777778,
              "#fb9f3a"
             ],
             [
              0.8888888888888888,
              "#fdca26"
             ],
             [
              1,
              "#f0f921"
             ]
            ],
            "type": "histogram2d"
           }
          ],
          "histogram2dcontour": [
           {
            "colorbar": {
             "outlinewidth": 0,
             "ticks": ""
            },
            "colorscale": [
             [
              0,
              "#0d0887"
             ],
             [
              0.1111111111111111,
              "#46039f"
             ],
             [
              0.2222222222222222,
              "#7201a8"
             ],
             [
              0.3333333333333333,
              "#9c179e"
             ],
             [
              0.4444444444444444,
              "#bd3786"
             ],
             [
              0.5555555555555556,
              "#d8576b"
             ],
             [
              0.6666666666666666,
              "#ed7953"
             ],
             [
              0.7777777777777778,
              "#fb9f3a"
             ],
             [
              0.8888888888888888,
              "#fdca26"
             ],
             [
              1,
              "#f0f921"
             ]
            ],
            "type": "histogram2dcontour"
           }
          ],
          "mesh3d": [
           {
            "colorbar": {
             "outlinewidth": 0,
             "ticks": ""
            },
            "type": "mesh3d"
           }
          ],
          "parcoords": [
           {
            "line": {
             "colorbar": {
              "outlinewidth": 0,
              "ticks": ""
             }
            },
            "type": "parcoords"
           }
          ],
          "pie": [
           {
            "automargin": true,
            "type": "pie"
           }
          ],
          "scatter": [
           {
            "fillpattern": {
             "fillmode": "overlay",
             "size": 10,
             "solidity": 0.2
            },
            "type": "scatter"
           }
          ],
          "scatter3d": [
           {
            "line": {
             "colorbar": {
              "outlinewidth": 0,
              "ticks": ""
             }
            },
            "marker": {
             "colorbar": {
              "outlinewidth": 0,
              "ticks": ""
             }
            },
            "type": "scatter3d"
           }
          ],
          "scattercarpet": [
           {
            "marker": {
             "colorbar": {
              "outlinewidth": 0,
              "ticks": ""
             }
            },
            "type": "scattercarpet"
           }
          ],
          "scattergeo": [
           {
            "marker": {
             "colorbar": {
              "outlinewidth": 0,
              "ticks": ""
             }
            },
            "type": "scattergeo"
           }
          ],
          "scattergl": [
           {
            "marker": {
             "colorbar": {
              "outlinewidth": 0,
              "ticks": ""
             }
            },
            "type": "scattergl"
           }
          ],
          "scattermap": [
           {
            "marker": {
             "colorbar": {
              "outlinewidth": 0,
              "ticks": ""
             }
            },
            "type": "scattermap"
           }
          ],
          "scattermapbox": [
           {
            "marker": {
             "colorbar": {
              "outlinewidth": 0,
              "ticks": ""
             }
            },
            "type": "scattermapbox"
           }
          ],
          "scatterpolar": [
           {
            "marker": {
             "colorbar": {
              "outlinewidth": 0,
              "ticks": ""
             }
            },
            "type": "scatterpolar"
           }
          ],
          "scatterpolargl": [
           {
            "marker": {
             "colorbar": {
              "outlinewidth": 0,
              "ticks": ""
             }
            },
            "type": "scatterpolargl"
           }
          ],
          "scatterternary": [
           {
            "marker": {
             "colorbar": {
              "outlinewidth": 0,
              "ticks": ""
             }
            },
            "type": "scatterternary"
           }
          ],
          "surface": [
           {
            "colorbar": {
             "outlinewidth": 0,
             "ticks": ""
            },
            "colorscale": [
             [
              0,
              "#0d0887"
             ],
             [
              0.1111111111111111,
              "#46039f"
             ],
             [
              0.2222222222222222,
              "#7201a8"
             ],
             [
              0.3333333333333333,
              "#9c179e"
             ],
             [
              0.4444444444444444,
              "#bd3786"
             ],
             [
              0.5555555555555556,
              "#d8576b"
             ],
             [
              0.6666666666666666,
              "#ed7953"
             ],
             [
              0.7777777777777778,
              "#fb9f3a"
             ],
             [
              0.8888888888888888,
              "#fdca26"
             ],
             [
              1,
              "#f0f921"
             ]
            ],
            "type": "surface"
           }
          ],
          "table": [
           {
            "cells": {
             "fill": {
              "color": "#EBF0F8"
             },
             "line": {
              "color": "white"
             }
            },
            "header": {
             "fill": {
              "color": "#C8D4E3"
             },
             "line": {
              "color": "white"
             }
            },
            "type": "table"
           }
          ]
         },
         "layout": {
          "annotationdefaults": {
           "arrowcolor": "#2a3f5f",
           "arrowhead": 0,
           "arrowwidth": 1
          },
          "autotypenumbers": "strict",
          "coloraxis": {
           "colorbar": {
            "outlinewidth": 0,
            "ticks": ""
           }
          },
          "colorscale": {
           "diverging": [
            [
             0,
             "#8e0152"
            ],
            [
             0.1,
             "#c51b7d"
            ],
            [
             0.2,
             "#de77ae"
            ],
            [
             0.3,
             "#f1b6da"
            ],
            [
             0.4,
             "#fde0ef"
            ],
            [
             0.5,
             "#f7f7f7"
            ],
            [
             0.6,
             "#e6f5d0"
            ],
            [
             0.7,
             "#b8e186"
            ],
            [
             0.8,
             "#7fbc41"
            ],
            [
             0.9,
             "#4d9221"
            ],
            [
             1,
             "#276419"
            ]
           ],
           "sequential": [
            [
             0,
             "#0d0887"
            ],
            [
             0.1111111111111111,
             "#46039f"
            ],
            [
             0.2222222222222222,
             "#7201a8"
            ],
            [
             0.3333333333333333,
             "#9c179e"
            ],
            [
             0.4444444444444444,
             "#bd3786"
            ],
            [
             0.5555555555555556,
             "#d8576b"
            ],
            [
             0.6666666666666666,
             "#ed7953"
            ],
            [
             0.7777777777777778,
             "#fb9f3a"
            ],
            [
             0.8888888888888888,
             "#fdca26"
            ],
            [
             1,
             "#f0f921"
            ]
           ],
           "sequentialminus": [
            [
             0,
             "#0d0887"
            ],
            [
             0.1111111111111111,
             "#46039f"
            ],
            [
             0.2222222222222222,
             "#7201a8"
            ],
            [
             0.3333333333333333,
             "#9c179e"
            ],
            [
             0.4444444444444444,
             "#bd3786"
            ],
            [
             0.5555555555555556,
             "#d8576b"
            ],
            [
             0.6666666666666666,
             "#ed7953"
            ],
            [
             0.7777777777777778,
             "#fb9f3a"
            ],
            [
             0.8888888888888888,
             "#fdca26"
            ],
            [
             1,
             "#f0f921"
            ]
           ]
          },
          "colorway": [
           "#636efa",
           "#EF553B",
           "#00cc96",
           "#ab63fa",
           "#FFA15A",
           "#19d3f3",
           "#FF6692",
           "#B6E880",
           "#FF97FF",
           "#FECB52"
          ],
          "font": {
           "color": "#2a3f5f"
          },
          "geo": {
           "bgcolor": "white",
           "lakecolor": "white",
           "landcolor": "#E5ECF6",
           "showlakes": true,
           "showland": true,
           "subunitcolor": "white"
          },
          "hoverlabel": {
           "align": "left"
          },
          "hovermode": "closest",
          "mapbox": {
           "style": "light"
          },
          "paper_bgcolor": "white",
          "plot_bgcolor": "#E5ECF6",
          "polar": {
           "angularaxis": {
            "gridcolor": "white",
            "linecolor": "white",
            "ticks": ""
           },
           "bgcolor": "#E5ECF6",
           "radialaxis": {
            "gridcolor": "white",
            "linecolor": "white",
            "ticks": ""
           }
          },
          "scene": {
           "xaxis": {
            "backgroundcolor": "#E5ECF6",
            "gridcolor": "white",
            "gridwidth": 2,
            "linecolor": "white",
            "showbackground": true,
            "ticks": "",
            "zerolinecolor": "white"
           },
           "yaxis": {
            "backgroundcolor": "#E5ECF6",
            "gridcolor": "white",
            "gridwidth": 2,
            "linecolor": "white",
            "showbackground": true,
            "ticks": "",
            "zerolinecolor": "white"
           },
           "zaxis": {
            "backgroundcolor": "#E5ECF6",
            "gridcolor": "white",
            "gridwidth": 2,
            "linecolor": "white",
            "showbackground": true,
            "ticks": "",
            "zerolinecolor": "white"
           }
          },
          "shapedefaults": {
           "line": {
            "color": "#2a3f5f"
           }
          },
          "ternary": {
           "aaxis": {
            "gridcolor": "white",
            "linecolor": "white",
            "ticks": ""
           },
           "baxis": {
            "gridcolor": "white",
            "linecolor": "white",
            "ticks": ""
           },
           "bgcolor": "#E5ECF6",
           "caxis": {
            "gridcolor": "white",
            "linecolor": "white",
            "ticks": ""
           }
          },
          "title": {
           "x": 0.05
          },
          "xaxis": {
           "automargin": true,
           "gridcolor": "white",
           "linecolor": "white",
           "ticks": "",
           "title": {
            "standoff": 15
           },
           "zerolinecolor": "white",
           "zerolinewidth": 2
          },
          "yaxis": {
           "automargin": true,
           "gridcolor": "white",
           "linecolor": "white",
           "ticks": "",
           "title": {
            "standoff": 15
           },
           "zerolinecolor": "white",
           "zerolinewidth": 2
          }
         }
        },
        "title": {
         "text": "Training Dashboard"
        },
        "width": 1000,
        "xaxis": {
         "anchor": "y",
         "domain": [
          0,
          1
         ]
        },
        "xaxis2": {
         "anchor": "y2",
         "domain": [
          0,
          0.45
         ]
        },
        "xaxis3": {
         "anchor": "y3",
         "domain": [
          0.55,
          1
         ]
        },
        "yaxis": {
         "anchor": "x",
         "domain": [
          0.625,
          1
         ]
        },
        "yaxis2": {
         "anchor": "x2",
         "domain": [
          0,
          0.375
         ]
        },
        "yaxis3": {
         "anchor": "x3",
         "domain": [
          0,
          0.375
         ]
        }
       }
      }
     },
     "metadata": {},
     "output_type": "display_data"
    },
    {
     "name": "stdout",
     "output_type": "stream",
     "text": [
      "Epoch 3: New best model saved to best_model_EfficientNet.pt\n"
     ]
    },
    {
     "data": {
      "image/png": "[encoded data removed]",
      "text/plain": [
       "<Figure size 640x480 with 2 Axes>"
      ]
     },
     "metadata": {},
     "output_type": "display_data"
    },
    {
     "name": "stdout",
     "output_type": "stream",
     "text": [
      "Classification Report:\n",
      "              precision    recall  f1-score   support\n",
      "\n",
      "      normal       0.93      1.00      0.96      2000\n",
      "     covered       1.00      0.99      1.00      2000\n",
      "  defocussed       1.00      1.00      1.00      2000\n",
      "       moved       1.00      0.93      0.96      2000\n",
      "\n",
      "    accuracy                           0.98      8000\n",
      "   macro avg       0.98      0.98      0.98      8000\n",
      "weighted avg       0.98      0.98      0.98      8000\n",
      "\n",
      "TPR, FPR per class:\n",
      "normal: TPR = 0.9990, FPR = 0.0257\n",
      "covered: TPR = 0.9920, FPR = 0.0003\n",
      "defocussed: TPR = 1.0000, FPR = 0.0000\n",
      "moved: TPR = 0.9310, FPR = 0.0000\n"
     ]
    }
   ],
   "source": [
    "dashboard = PlotlyTrainingDashboard()\n",
    "train_model(dashboard, mode='EfficientNet')"
   ]
  },
  {
   "cell_type": "code",
   "execution_count": 7,
   "id": "b5b7a641",
   "metadata": {},
   "outputs": [
    {
     "data": {
      "application/vnd.plotly.v1+json": {
       "config": {
        "plotlyServerURL": "https://plot.ly"
       },
       "data": [
        {
         "line": {
          "color": "blue"
         },
         "mode": "lines",
         "name": "Train Loss",
         "type": "scatter",
         "x": [
          0,
          1,
          2,
          3
         ],
         "xaxis": "x",
         "y": [
          1.3929454367160796,
          0.14749542018398643,
          0.08235346779413522,
          0.0812458592983894
         ],
         "yaxis": "y"
        },
        {
         "line": {
          "color": "red"
         },
         "mode": "lines",
         "name": "Val Loss",
         "type": "scatter",
         "x": [
          0,
          1,
          2,
          3
         ],
         "xaxis": "x",
         "y": [
          1.3888252363204956,
          0.018243311519967394,
          0.01612429784319829,
          0.017392153750522995
         ],
         "yaxis": "y"
        },
        {
         "line": {
          "color": "green"
         },
         "mode": "lines",
         "name": "Train Acc",
         "type": "scatter",
         "x": [
          0,
          1,
          2,
          3
         ],
         "xaxis": "x2",
         "y": [
          0.3524375,
          0.95284375,
          0.97375,
          0.975375
         ],
         "yaxis": "y2"
        },
        {
         "line": {
          "color": "orange"
         },
         "mode": "lines",
         "name": "Val Acc",
         "type": "scatter",
         "x": [
          0,
          1,
          2,
          3
         ],
         "xaxis": "x2",
         "y": [
          0.34825,
          0.99425,
          0.99525,
          0.9945
         ],
         "yaxis": "y2"
        },
        {
         "line": {
          "color": "purple"
         },
         "mode": "lines",
         "name": "Learning Rate",
         "type": "scatter",
         "x": [
          0,
          1,
          2,
          3
         ],
         "xaxis": "x3",
         "y": [
          0.001,
          0.001,
          0.001,
          0.001
         ],
         "yaxis": "y3"
        }
       ],
       "layout": {
        "annotations": [
         {
          "font": {
           "size": 16
          },
          "showarrow": false,
          "text": "Loss",
          "x": 0.5,
          "xanchor": "center",
          "xref": "paper",
          "y": 1,
          "yanchor": "bottom",
          "yref": "paper"
         },
         {
          "font": {
           "size": 16
          },
          "showarrow": false,
          "text": "Accuracy",
          "x": 0.225,
          "xanchor": "center",
          "xref": "paper",
          "y": 0.375,
          "yanchor": "bottom",
          "yref": "paper"
         },
         {
          "font": {
           "size": 16
          },
          "showarrow": false,
          "text": "Learning Rate",
          "x": 0.775,
          "xanchor": "center",
          "xref": "paper",
          "y": 0.375,
          "yanchor": "bottom",
          "yref": "paper"
         }
        ],
        "height": 600,
        "showlegend": true,
        "template": {
         "data": {
          "bar": [
           {
            "error_x": {
             "color": "#2a3f5f"
            },
            "error_y": {
             "color": "#2a3f5f"
            },
            "marker": {
             "line": {
              "color": "#E5ECF6",
              "width": 0.5
             },
             "pattern": {
              "fillmode": "overlay",
              "size": 10,
              "solidity": 0.2
             }
            },
            "type": "bar"
           }
          ],
          "barpolar": [
           {
            "marker": {
             "line": {
              "color": "#E5ECF6",
              "width": 0.5
             },
             "pattern": {
              "fillmode": "overlay",
              "size": 10,
              "solidity": 0.2
             }
            },
            "type": "barpolar"
           }
          ],
          "carpet": [
           {
            "aaxis": {
             "endlinecolor": "#2a3f5f",
             "gridcolor": "white",
             "linecolor": "white",
             "minorgridcolor": "white",
             "startlinecolor": "#2a3f5f"
            },
            "baxis": {
             "endlinecolor": "#2a3f5f",
             "gridcolor": "white",
             "linecolor": "white",
             "minorgridcolor": "white",
             "startlinecolor": "#2a3f5f"
            },
            "type": "carpet"
           }
          ],
          "choropleth": [
           {
            "colorbar": {
             "outlinewidth": 0,
             "ticks": ""
            },
            "type": "choropleth"
           }
          ],
          "contour": [
           {
            "colorbar": {
             "outlinewidth": 0,
             "ticks": ""
            },
            "colorscale": [
             [
              0,
              "#0d0887"
             ],
             [
              0.1111111111111111,
              "#46039f"
             ],
             [
              0.2222222222222222,
              "#7201a8"
             ],
             [
              0.3333333333333333,
              "#9c179e"
             ],
             [
              0.4444444444444444,
              "#bd3786"
             ],
             [
              0.5555555555555556,
              "#d8576b"
             ],
             [
              0.6666666666666666,
              "#ed7953"
             ],
             [
              0.7777777777777778,
              "#fb9f3a"
             ],
             [
              0.8888888888888888,
              "#fdca26"
             ],
             [
              1,
              "#f0f921"
             ]
            ],
            "type": "contour"
           }
          ],
          "contourcarpet": [
           {
            "colorbar": {
             "outlinewidth": 0,
             "ticks": ""
            },
            "type": "contourcarpet"
           }
          ],
          "heatmap": [
           {
            "colorbar": {
             "outlinewidth": 0,
             "ticks": ""
            },
            "colorscale": [
             [
              0,
              "#0d0887"
             ],
             [
              0.1111111111111111,
              "#46039f"
             ],
             [
              0.2222222222222222,
              "#7201a8"
             ],
             [
              0.3333333333333333,
              "#9c179e"
             ],
             [
              0.4444444444444444,
              "#bd3786"
             ],
             [
              0.5555555555555556,
              "#d8576b"
             ],
             [
              0.6666666666666666,
              "#ed7953"
             ],
             [
              0.7777777777777778,
              "#fb9f3a"
             ],
             [
              0.8888888888888888,
              "#fdca26"
             ],
             [
              1,
              "#f0f921"
             ]
            ],
            "type": "heatmap"
           }
          ],
          "histogram": [
           {
            "marker": {
             "pattern": {
              "fillmode": "overlay",
              "size": 10,
              "solidity": 0.2
             }
            },
            "type": "histogram"
           }
          ],
          "histogram2d": [
           {
            "colorbar": {
             "outlinewidth": 0,
             "ticks": ""
            },
            "colorscale": [
             [
              0,
              "#0d0887"
             ],
             [
              0.1111111111111111,
              "#46039f"
             ],
             [
              0.2222222222222222,
              "#7201a8"
             ],
             [
              0.3333333333333333,
              "#9c179e"
             ],
             [
              0.4444444444444444,
              "#bd3786"
             ],
             [
              0.5555555555555556,
              "#d8576b"
             ],
             [
              0.6666666666666666,
              "#ed7953"
             ],
             [
              0.7777777777777778,
              "#fb9f3a"
             ],
             [
              0.8888888888888888,
              "#fdca26"
             ],
             [
              1,
              "#f0f921"
             ]
            ],
            "type": "histogram2d"
           }
          ],
          "histogram2dcontour": [
           {
            "colorbar": {
             "outlinewidth": 0,
             "ticks": ""
            },
            "colorscale": [
             [
              0,
              "#0d0887"
             ],
             [
              0.1111111111111111,
              "#46039f"
             ],
             [
              0.2222222222222222,
              "#7201a8"
             ],
             [
              0.3333333333333333,
              "#9c179e"
             ],
             [
              0.4444444444444444,
              "#bd3786"
             ],
             [
              0.5555555555555556,
              "#d8576b"
             ],
             [
              0.6666666666666666,
              "#ed7953"
             ],
             [
              0.7777777777777778,
              "#fb9f3a"
             ],
             [
              0.8888888888888888,
              "#fdca26"
             ],
             [
              1,
              "#f0f921"
             ]
            ],
            "type": "histogram2dcontour"
           }
          ],
          "mesh3d": [
           {
            "colorbar": {
             "outlinewidth": 0,
             "ticks": ""
            },
            "type": "mesh3d"
           }
          ],
          "parcoords": [
           {
            "line": {
             "colorbar": {
              "outlinewidth": 0,
              "ticks": ""
             }
            },
            "type": "parcoords"
           }
          ],
          "pie": [
           {
            "automargin": true,
            "type": "pie"
           }
          ],
          "scatter": [
           {
            "fillpattern": {
             "fillmode": "overlay",
             "size": 10,
             "solidity": 0.2
            },
            "type": "scatter"
           }
          ],
          "scatter3d": [
           {
            "line": {
             "colorbar": {
              "outlinewidth": 0,
              "ticks": ""
             }
            },
            "marker": {
             "colorbar": {
              "outlinewidth": 0,
              "ticks": ""
             }
            },
            "type": "scatter3d"
           }
          ],
          "scattercarpet": [
           {
            "marker": {
             "colorbar": {
              "outlinewidth": 0,
              "ticks": ""
             }
            },
            "type": "scattercarpet"
           }
          ],
          "scattergeo": [
           {
            "marker": {
             "colorbar": {
              "outlinewidth": 0,
              "ticks": ""
             }
            },
            "type": "scattergeo"
           }
          ],
          "scattergl": [
           {
            "marker": {
             "colorbar": {
              "outlinewidth": 0,
              "ticks": ""
             }
            },
            "type": "scattergl"
           }
          ],
          "scattermap": [
           {
            "marker": {
             "colorbar": {
              "outlinewidth": 0,
              "ticks": ""
             }
            },
            "type": "scattermap"
           }
          ],
          "scattermapbox": [
           {
            "marker": {
             "colorbar": {
              "outlinewidth": 0,
              "ticks": ""
             }
            },
            "type": "scattermapbox"
           }
          ],
          "scatterpolar": [
           {
            "marker": {
             "colorbar": {
              "outlinewidth": 0,
              "ticks": ""
             }
            },
            "type": "scatterpolar"
           }
          ],
          "scatterpolargl": [
           {
            "marker": {
             "colorbar": {
              "outlinewidth": 0,
              "ticks": ""
             }
            },
            "type": "scatterpolargl"
           }
          ],
          "scatterternary": [
           {
            "marker": {
             "colorbar": {
              "outlinewidth": 0,
              "ticks": ""
             }
            },
            "type": "scatterternary"
           }
          ],
          "surface": [
           {
            "colorbar": {
             "outlinewidth": 0,
             "ticks": ""
            },
            "colorscale": [
             [
              0,
              "#0d0887"
             ],
             [
              0.1111111111111111,
              "#46039f"
             ],
             [
              0.2222222222222222,
              "#7201a8"
             ],
             [
              0.3333333333333333,
              "#9c179e"
             ],
             [
              0.4444444444444444,
              "#bd3786"
             ],
             [
              0.5555555555555556,
              "#d8576b"
             ],
             [
              0.6666666666666666,
              "#ed7953"
             ],
             [
              0.7777777777777778,
              "#fb9f3a"
             ],
             [
              0.8888888888888888,
              "#fdca26"
             ],
             [
              1,
              "#f0f921"
             ]
            ],
            "type": "surface"
           }
          ],
          "table": [
           {
            "cells": {
             "fill": {
              "color": "#EBF0F8"
             },
             "line": {
              "color": "white"
             }
            },
            "header": {
             "fill": {
              "color": "#C8D4E3"
             },
             "line": {
              "color": "white"
             }
            },
            "type": "table"
           }
          ]
         },
         "layout": {
          "annotationdefaults": {
           "arrowcolor": "#2a3f5f",
           "arrowhead": 0,
           "arrowwidth": 1
          },
          "autotypenumbers": "strict",
          "coloraxis": {
           "colorbar": {
            "outlinewidth": 0,
            "ticks": ""
           }
          },
          "colorscale": {
           "diverging": [
            [
             0,
             "#8e0152"
            ],
            [
             0.1,
             "#c51b7d"
            ],
            [
             0.2,
             "#de77ae"
            ],
            [
             0.3,
             "#f1b6da"
            ],
            [
             0.4,
             "#fde0ef"
            ],
            [
             0.5,
             "#f7f7f7"
            ],
            [
             0.6,
             "#e6f5d0"
            ],
            [
             0.7,
             "#b8e186"
            ],
            [
             0.8,
             "#7fbc41"
            ],
            [
             0.9,
             "#4d9221"
            ],
            [
             1,
             "#276419"
            ]
           ],
           "sequential": [
            [
             0,
             "#0d0887"
            ],
            [
             0.1111111111111111,
             "#46039f"
            ],
            [
             0.2222222222222222,
             "#7201a8"
            ],
            [
             0.3333333333333333,
             "#9c179e"
            ],
            [
             0.4444444444444444,
             "#bd3786"
            ],
            [
             0.5555555555555556,
             "#d8576b"
            ],
            [
             0.6666666666666666,
             "#ed7953"
            ],
            [
             0.7777777777777778,
             "#fb9f3a"
            ],
            [
             0.8888888888888888,
             "#fdca26"
            ],
            [
             1,
             "#f0f921"
            ]
           ],
           "sequentialminus": [
            [
             0,
             "#0d0887"
            ],
            [
             0.1111111111111111,
             "#46039f"
            ],
            [
             0.2222222222222222,
             "#7201a8"
            ],
            [
             0.3333333333333333,
             "#9c179e"
            ],
            [
             0.4444444444444444,
             "#bd3786"
            ],
            [
             0.5555555555555556,
             "#d8576b"
            ],
            [
             0.6666666666666666,
             "#ed7953"
            ],
            [
             0.7777777777777778,
             "#fb9f3a"
            ],
            [
             0.8888888888888888,
             "#fdca26"
            ],
            [
             1,
             "#f0f921"
            ]
           ]
          },
          "colorway": [
           "#636efa",
           "#EF553B",
           "#00cc96",
           "#ab63fa",
           "#FFA15A",
           "#19d3f3",
           "#FF6692",
           "#B6E880",
           "#FF97FF",
           "#FECB52"
          ],
          "font": {
           "color": "#2a3f5f"
          },
          "geo": {
           "bgcolor": "white",
           "lakecolor": "white",
           "landcolor": "#E5ECF6",
           "showlakes": true,
           "showland": true,
           "subunitcolor": "white"
          },
          "hoverlabel": {
           "align": "left"
          },
          "hovermode": "closest",
          "mapbox": {
           "style": "light"
          },
          "paper_bgcolor": "white",
          "plot_bgcolor": "#E5ECF6",
          "polar": {
           "angularaxis": {
            "gridcolor": "white",
            "linecolor": "white",
            "ticks": ""
           },
           "bgcolor": "#E5ECF6",
           "radialaxis": {
            "gridcolor": "white",
            "linecolor": "white",
            "ticks": ""
           }
          },
          "scene": {
           "xaxis": {
            "backgroundcolor": "#E5ECF6",
            "gridcolor": "white",
            "gridwidth": 2,
            "linecolor": "white",
            "showbackground": true,
            "ticks": "",
            "zerolinecolor": "white"
           },
           "yaxis": {
            "backgroundcolor": "#E5ECF6",
            "gridcolor": "white",
            "gridwidth": 2,
            "linecolor": "white",
            "showbackground": true,
            "ticks": "",
            "zerolinecolor": "white"
           },
           "zaxis": {
            "backgroundcolor": "#E5ECF6",
            "gridcolor": "white",
            "gridwidth": 2,
            "linecolor": "white",
            "showbackground": true,
            "ticks": "",
            "zerolinecolor": "white"
           }
          },
          "shapedefaults": {
           "line": {
            "color": "#2a3f5f"
           }
          },
          "ternary": {
           "aaxis": {
            "gridcolor": "white",
            "linecolor": "white",
            "ticks": ""
           },
           "baxis": {
            "gridcolor": "white",
            "linecolor": "white",
            "ticks": ""
           },
           "bgcolor": "#E5ECF6",
           "caxis": {
            "gridcolor": "white",
            "linecolor": "white",
            "ticks": ""
           }
          },
          "title": {
           "x": 0.05
          },
          "xaxis": {
           "automargin": true,
           "gridcolor": "white",
           "linecolor": "white",
           "ticks": "",
           "title": {
            "standoff": 15
           },
           "zerolinecolor": "white",
           "zerolinewidth": 2
          },
          "yaxis": {
           "automargin": true,
           "gridcolor": "white",
           "linecolor": "white",
           "ticks": "",
           "title": {
            "standoff": 15
           },
           "zerolinecolor": "white",
           "zerolinewidth": 2
          }
         }
        },
        "title": {
         "text": "Training Dashboard"
        },
        "width": 1000,
        "xaxis": {
         "anchor": "y",
         "domain": [
          0,
          1
         ]
        },
        "xaxis2": {
         "anchor": "y2",
         "domain": [
          0,
          0.45
         ]
        },
        "xaxis3": {
         "anchor": "y3",
         "domain": [
          0.55,
          1
         ]
        },
        "yaxis": {
         "anchor": "x",
         "domain": [
          0.625,
          1
         ]
        },
        "yaxis2": {
         "anchor": "x2",
         "domain": [
          0,
          0.375
         ]
        },
        "yaxis3": {
         "anchor": "x3",
         "domain": [
          0,
          0.375
         ]
        }
       }
      }
     },
     "metadata": {},
     "output_type": "display_data"
    },
    {
     "data": {
      "image/png": "[encoded data removed]",
      "text/plain": [
       "<Figure size 640x480 with 2 Axes>"
      ]
     },
     "metadata": {},
     "output_type": "display_data"
    },
    {
     "name": "stdout",
     "output_type": "stream",
     "text": [
      "Classification Report:\n",
      "              precision    recall  f1-score   support\n",
      "\n",
      "      normal       0.91      0.98      0.94      2000\n",
      "     covered       0.99      1.00      1.00      2000\n",
      "  defocussed       1.00      1.00      1.00      2000\n",
      "       moved       0.98      0.89      0.94      2000\n",
      "\n",
      "    accuracy                           0.97      8000\n",
      "   macro avg       0.97      0.97      0.97      8000\n",
      "weighted avg       0.97      0.97      0.97      8000\n",
      "\n",
      "TPR, FPR per class:\n",
      "normal: TPR = 0.9830, FPR = 0.0335\n",
      "covered: TPR = 0.9995, FPR = 0.0018\n",
      "defocussed: TPR = 1.0000, FPR = 0.0000\n",
      "moved: TPR = 0.8945, FPR = 0.0057\n"
     ]
    }
   ],
   "source": [
    "dashboard = PlotlyTrainingDashboard()\n",
    "train_model(dashboard, mode='MobileNetV2')"
   ]
  },
  {
   "cell_type": "markdown",
   "id": "92c4a687",
   "metadata": {},
   "source": [
    "**Эксперимент**\n",
    "\n",
    "Давайте проведем эксперимент и узнаем, как будет работать модель на другой камере с другим разрешением.\n",
    "\n",
    "А также так мы проверим, не переобучилась ли наша модель.\n",
    "\n",
    "Так как при смене камеры изменится задний фон изображений, ожидается, что класс moved будет классифицировать большую часть объектов.\n",
    "\n",
    "Сперва проверим это с классом moved, а после проведем классификацию на 3 класса."
   ]
  },
  {
   "cell_type": "code",
   "execution_count": 8,
   "id": "b0ad2e09",
   "metadata": {},
   "outputs": [],
   "source": [
    "EfficientNet_path = \"best_model_EfficientNet.pt\"\n",
    "MobileNet_path = \"best_model_MobileNetV2.pt\"\n",
    "\n",
    "def test_on_camera_B(mode='EfficientNet'):\n",
    "    if mode == 'EfficientNet':\n",
    "        model = efficientnet_b0(weights=EfficientNet_B0_Weights.DEFAULT)\n",
    "        model.classifier[1] = nn.Linear(model.classifier[1].in_features, 4)\n",
    "        model.load_state_dict(torch.load(EfficientNet_path, map_location=DEVICE))\n",
    "    elif mode == 'MobileNetV2':\n",
    "        model = mobilenet_v2(weights=MobileNet_V2_Weights.DEFAULT)\n",
    "        model.classifier[1] = nn.Linear(model.last_channel, 4)\n",
    "        model.load_state_dict(torch.load(MobileNet_path, map_location=DEVICE))\n",
    "    else: \n",
    "        raise ValueError(f\"No such mode : {mode}\")\n",
    "    \n",
    "    model = model.to(DEVICE)\n",
    "    dataset = ImageDataset(base_path=\"UHCTD_dataset\", camera_name=\"Camera B\")\n",
    "    test_loader = DataLoader(dataset.get_dataloader(mode='test').dataset, batch_size=32)\n",
    "    evaluate_model(model, test_loader)"
   ]
  },
  {
   "cell_type": "code",
   "execution_count": 10,
   "id": "0fc34517",
   "metadata": {},
   "outputs": [
    {
     "name": "stdout",
     "output_type": "stream",
     "text": [
      "Extracted per train+test : [10000, 10000, 10000, 10000]\n",
      "Extracted per val : [2000, 2000, 2000, 2000]\n"
     ]
    },
    {
     "data": {
      "image/png": "[encoded data removed]",
      "text/plain": [
       "<Figure size 640x480 with 2 Axes>"
      ]
     },
     "metadata": {},
     "output_type": "display_data"
    },
    {
     "name": "stdout",
     "output_type": "stream",
     "text": [
      "Classification Report:\n",
      "              precision    recall  f1-score   support\n",
      "\n",
      "      normal       0.30      0.06      0.10      2000\n",
      "     covered       1.00      0.94      0.97      2000\n",
      "  defocussed       0.99      1.00      1.00      2000\n",
      "       moved       0.46      0.85      0.60      2000\n",
      "\n",
      "    accuracy                           0.71      8000\n",
      "   macro avg       0.69      0.71      0.67      8000\n",
      "weighted avg       0.69      0.71      0.67      8000\n",
      "\n",
      "TPR, FPR per class:\n",
      "normal: TPR = 0.0590, FPR = 0.0463\n",
      "covered: TPR = 0.9380, FPR = 0.0000\n",
      "defocussed: TPR = 1.0000, FPR = 0.0023\n",
      "moved: TPR = 0.8540, FPR = 0.3343\n"
     ]
    }
   ],
   "source": [
    "test_on_camera_B(mode='MobileNetV2')"
   ]
  }
 ],
 "metadata": {
  "kernelspec": {
   "display_name": "Python 3",
   "language": "python",
   "name": "python3"
  },
  "language_info": {
   "codemirror_mode": {
    "name": "ipython",
    "version": 3
   },
   "file_extension": ".py",
   "mimetype": "text/x-python",
   "name": "python",
   "nbconvert_exporter": "python",
   "pygments_lexer": "ipython3",
   "version": "3.12.5"
  }
 },
 "nbformat": 4,
 "nbformat_minor": 5
}
