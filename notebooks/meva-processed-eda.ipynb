{
 "cells": [
  {
   "cell_type": "code",
   "execution_count": null,
   "metadata": {},
   "outputs": [],
   "source": [
    "import os\n",
    "import cv2\n",
    "import pandas as pd\n",
    "import matplotlib.pyplot as plt\n",
    "import seaborn as sns\n",
    "\n",
    "from src.config import YamlConfigReader"
   ]
  },
  {
   "cell_type": "code",
   "execution_count": null,
   "metadata": {},
   "outputs": [],
   "source": [
    "conf_file_path = 'conf\\meva_preproc.yaml'"
   ]
  },
  {
   "cell_type": "code",
   "execution_count": null,
   "metadata": {},
   "outputs": [],
   "source": [
    "config_source = YamlConfigReader(conf_file_path)\n",
    "params = config_source.get_all()\n",
    "params"
   ]
  },
  {
   "cell_type": "code",
   "execution_count": null,
   "metadata": {},
   "outputs": [],
   "source": [
    "annot_df_path = params['annotations_csv']\n",
    "if not os.path.exists(annot_df_path):\n",
    "    print('MEVA annotations.csv file not exist')\n",
    "annot_df_path"
   ]
  },
  {
   "cell_type": "code",
   "execution_count": null,
   "metadata": {},
   "outputs": [],
   "source": [
    "annot_df = pd.read_csv(annot_df_path)\n",
    "annot_df.head()"
   ]
  },
  {
   "cell_type": "code",
   "execution_count": null,
   "metadata": {},
   "outputs": [],
   "source": [
    "def plot_bbox_area_distribution(annotations_df: pd.DataFrame):\n",
    "    \"\"\"\n",
    "    Plot the distribution of average bounding box area per track.\n",
    "    \"\"\"\n",
    "    annotations_df['bbox_area'] = (annotations_df['xmax'] - annotations_df['xmin']) * (annotations_df['ymax'] - annotations_df['ymin'])\n",
    "\n",
    "    avg_bbox_area_per_track = annotations_df.groupby(['video_path', 'track_id'])['bbox_area'].mean()\n",
    "\n",
    "    plt.figure(figsize=(10, 6))\n",
    "    plt.hist(avg_bbox_area_per_track, bins=150, color='blue', alpha=0.7)\n",
    "    plt.title('Distribution of Average Bounding Box Area per Track')\n",
    "    plt.xlabel('Average Bounding Box Area')\n",
    "    plt.ylabel('Frequency')\n",
    "    plt.grid(True)\n",
    "    plt.show()\n",
    "    \n",
    "plot_bbox_area_distribution(annot_df)"
   ]
  },
  {
   "cell_type": "code",
   "execution_count": null,
   "metadata": {},
   "outputs": [],
   "source": [
    "unique_tracks_per_category = (\n",
    "    annot_df.groupby(['video_path', 'track_id', 'action_category'])\n",
    "    .size()\n",
    "    .groupby('action_category')\n",
    "    .size()\n",
    "    .reset_index(name='unique_tracks')\n",
    ")\n",
    "unique_tracks_per_category"
   ]
  },
  {
   "cell_type": "code",
   "execution_count": null,
   "metadata": {},
   "outputs": [],
   "source": [
    "unique_frames_per_category = (\n",
    "    annot_df.groupby(['video_path', 'keyframe_id', 'track_id', 'action_category'])\n",
    "    .size()\n",
    "    .groupby('action_category')\n",
    "    .size()\n",
    "    .reset_index(name='unique_frames')\n",
    ")\n",
    "unique_frames_per_category"
   ]
  },
  {
   "cell_type": "code",
   "execution_count": null,
   "metadata": {},
   "outputs": [],
   "source": [
    "def plot_category_counts(data, y_col, title, y_label, palette='viridis'):\n",
    "    \"\"\"\n",
    "    Plots a bar chart for action category counts with annotations.\n",
    "    \n",
    "    Args:\n",
    "        data (pd.DataFrame): DataFrame containing 'action_category' and count column\n",
    "        y_col (str): Name of the column to plot on y-axis (e.g., 'unique_frames')\n",
    "        title (str): Plot title\n",
    "        y_label (str): Y-axis label\n",
    "        palette (str): Color palette for the plot\n",
    "    \"\"\"\n",
    "    plt.figure(figsize=(10, 6))\n",
    "    ax = sns.barplot(x='action_category', y=y_col, hue='action_category', \n",
    "                    data=data, palette=palette, legend=False)\n",
    "    plt.title(title)\n",
    "    plt.xlabel('Action Category')\n",
    "    plt.ylabel(y_label)\n",
    "    plt.xticks(rotation=45)\n",
    "    \n",
    "    for index, row in data.iterrows():\n",
    "        ax.text(index, row[y_col], f\"{row[y_col]}\", \n",
    "                ha='center', va='bottom')\n",
    "    \n",
    "    plt.tight_layout()\n",
    "    plt.show()\n",
    "\n",
    "plot_category_counts(\n",
    "    data=unique_frames_per_category, \n",
    "    y_col='unique_frames',\n",
    "    title='Number of Unique Frames per Action Category',\n",
    "    y_label='Number of Unique Frames')\n",
    "\n",
    "plot_category_counts(\n",
    "    data=unique_tracks_per_category, \n",
    "    y_col='unique_tracks',\n",
    "    title='Number of Unique Tracks per Action Category',\n",
    "    y_label='Number of Unique Tracks')"
   ]
  },
  {
   "cell_type": "code",
   "execution_count": null,
   "metadata": {},
   "outputs": [],
   "source": [
    "def plot_frame_with_bbox(video_path: str, frame_num: int, bbox_coords: tuple):\n",
    "    \"\"\"\n",
    "    Plot a specific frame from the video with the bounding box.\n",
    "    \"\"\"\n",
    "    cap = cv2.VideoCapture(video_path)\n",
    "    total_frames = int(cap.get(cv2.CAP_PROP_FRAME_COUNT))\n",
    "    if frame_num >= total_frames:\n",
    "        print(f\"Frame {frame_num=} is out of range {total_frames=} in {video_path=}\")\n",
    "        cap.release()\n",
    "        return\n",
    "    cap.set(cv2.CAP_PROP_POS_FRAMES, frame_num)\n",
    "    ret, frame = cap.read()\n",
    "    if not ret:\n",
    "        print(f\"Frame {frame_num} not found in {video_path}\")\n",
    "        return\n",
    "    xmin, ymin, xmax, ymax = bbox_coords\n",
    "    cv2.rectangle(frame, (xmin, ymin), (xmax, ymax), (0, 255, 0), 2)\n",
    "    plt.imshow(cv2.cvtColor(frame, cv2.COLOR_BGR2RGB))\n",
    "    plt.title(f\"Frame {frame_num} with Bounding Box\")\n",
    "    plt.axis('off')\n",
    "    plt.show()\n",
    "    cap.release()\n",
    "\n",
    "def show_video_frame_with_avg_bbox(annotations_df: pd.DataFrame, n=20):\n",
    "    \"\"\"\n",
    "    Print video paths with average bounding box area for all tracks.\n",
    "    Also, plot one frame with the bounding box for each video.\n",
    "    \"\"\"\n",
    "    annotations_df['bbox_area'] = (annotations_df['xmax'] - annotations_df['xmin']) * \\\n",
    "                                  (annotations_df['ymax'] - annotations_df['ymin'])\n",
    "\n",
    "    sorted_df = annotations_df.sort_values('bbox_area')\n",
    "\n",
    "    step = max(1, len(sorted_df) // n)\n",
    "    selected_indices = range(0, len(sorted_df), step)[:n]\n",
    "\n",
    "    for idx in selected_indices:\n",
    "        if idx >= len(sorted_df):\n",
    "            continue\n",
    "            \n",
    "        row = sorted_df.iloc[idx]\n",
    "        print(f\"Video Path: {row['video_path']}, Frame: {row['keyframe_id']}, Bbox Area: {row['bbox_area']:.2f}\")\n",
    "        plot_frame_with_bbox(\n",
    "            video_path=row['video_path'], \n",
    "            frame_num=row['keyframe_id'], \n",
    "            bbox_coords=(row['xmin'], row['ymin'], row['xmax'], row['ymax']))\n",
    "        \n",
    "show_video_frame_with_avg_bbox(annot_df)"
   ]
  },
  {
   "cell_type": "code",
   "execution_count": null,
   "metadata": {},
   "outputs": [],
   "source": [
    "def count_tracks_with_avg_bbox_area_less_than(annotations_df: pd.DataFrame, threshold=10000):\n",
    "    \"\"\"\n",
    "    Count the number of videos where the average bounding box area per track is less than the threshold.\n",
    "    \"\"\"\n",
    "    annotations_df['bbox_area'] = (annotations_df['xmax'] - annotations_df['xmin']) * \\\n",
    "                                  (annotations_df['ymax'] - annotations_df['ymin'])\n",
    "\n",
    "    avg_track_box_area = annotations_df.groupby(['video_path', 'track_id'])['bbox_area'].mean().reset_index()\n",
    "\n",
    "    videos_with_small_bbox = avg_track_box_area[avg_track_box_area['bbox_area'] < threshold]\n",
    "\n",
    "    print(f\"Number of videos with average bbox area per track < {threshold}: {len(videos_with_small_bbox)}/{len(avg_track_box_area)}\")\n",
    "    \n",
    "count_tracks_with_avg_bbox_area_less_than(annot_df)"
   ]
  },
  {
   "cell_type": "code",
   "execution_count": null,
   "metadata": {},
   "outputs": [],
   "source": [
    "def plot_frame_count_distribution(annotations_df: pd.DataFrame):\n",
    "    \"\"\"\n",
    "    Plot the distribution of frame counts across videos.\n",
    "    \"\"\"\n",
    "    frame_counts = annotations_df.groupby('video_path')['keyframe_id'].max().reset_index()\n",
    "    frame_counts.rename(columns={'keyframe_id': 'frame_count'}, inplace=True)\n",
    "\n",
    "    plt.figure(figsize=(10, 6))\n",
    "    sns.histplot(frame_counts['frame_count'], bins=100, kde=True, color='blue')\n",
    "    plt.title('Distribution of Frame Counts Across Videos')\n",
    "    plt.xlabel('Frame Count')\n",
    "    plt.ylabel('Frequency')\n",
    "    plt.grid(True)\n",
    "    plt.show()\n",
    "\n",
    "plot_frame_count_distribution(annot_df)"
   ]
  }
 ],
 "metadata": {
  "kernelspec": {
   "display_name": ".venv",
   "language": "python",
   "name": "python3"
  },
  "language_info": {
   "name": "python",
   "version": "3.10.1"
  }
 },
 "nbformat": 4,
 "nbformat_minor": 2
}
